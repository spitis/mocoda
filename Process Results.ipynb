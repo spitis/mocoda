{
 "cells": [
  {
   "cell_type": "code",
   "execution_count": null,
   "id": "288ac85f",
   "metadata": {},
   "outputs": [],
   "source": [
    "import glob\n",
    "import pickle\n",
    "import numpy as np"
   ]
  },
  {
   "cell_type": "markdown",
   "id": "53f99c59",
   "metadata": {},
   "source": [
    "# Generalization Error of Models"
   ]
  },
  {
   "cell_type": "code",
   "execution_count": null,
   "id": "b7ecff20",
   "metadata": {},
   "outputs": [],
   "source": [
    "result_files = glob.glob('./toy_output/compare*.pickle')"
   ]
  },
  {
   "cell_type": "code",
   "execution_count": null,
   "id": "b2390db3",
   "metadata": {},
   "outputs": [],
   "source": [
    "with open(result_files[0], 'rb') as f:\n",
    "  res = pickle.load(f)\n",
    "  \n",
    "# convert to list of lists\n",
    "for dist in res.keys():\n",
    "  if dist != 'models':\n",
    "    res[dist] = [[r] for r in res[dist]]\n",
    "\n",
    "for file in result_files[1:]:\n",
    "  with open(file, 'rb') as f:\n",
    "    r = pickle.load(f)\n",
    "  for dist in res.keys():\n",
    "    if dist != 'models':\n",
    "      for i in range(len(res[dist])):\n",
    "        res[dist][i].append(r[dist][i])\n",
    "        \n",
    "\n",
    "# get mean and std\n",
    "M = []\n",
    "S = []\n",
    "print(res['models'])\n",
    "print('')\n",
    "for dist in res.keys():\n",
    "  if dist in ['tr','coda_disentangled','coda_ent','coda_ood']:\n",
    "    continue\n",
    "  if dist != 'models':\n",
    "    res[dist] = (np.array(res[dist]).mean(axis=1), np.array(res[dist]).std(axis=1))\n",
    "    print(dist)\n",
    "    M.append([r for i,r in enumerate(res[dist][0])])\n",
    "    S.append([r for i,r in enumerate(res[dist][1])])\n",
    "    print('')"
   ]
  },
  {
   "cell_type": "code",
   "execution_count": null,
   "id": "b8122187",
   "metadata": {},
   "outputs": [],
   "source": [
    "import numpy as np"
   ]
  },
  {
   "cell_type": "code",
   "execution_count": null,
   "id": "91b00571",
   "metadata": {},
   "outputs": [],
   "source": [
    "M = np.array(M)\n",
    "S = np.array(S)"
   ]
  },
  {
   "cell_type": "code",
   "execution_count": null,
   "id": "9d8f1f02",
   "metadata": {},
   "outputs": [],
   "source": [
    "M = (M.T*100).round(2)"
   ]
  },
  {
   "cell_type": "code",
   "execution_count": null,
   "id": "3fa65f61",
   "metadata": {},
   "outputs": [],
   "source": [
    "S = (S.T*100).round(2)"
   ]
  },
  {
   "cell_type": "code",
   "execution_count": null,
   "id": "6ae2c71c",
   "metadata": {},
   "outputs": [],
   "source": [
    "for row in range(3):\n",
    "  print(\"&\", end='')\n",
    "  for col in range(5):\n",
    "    print(f' {M[row,col]} $\\pm$ {S[row,col]} ', end='& ')\n",
    "  print()"
   ]
  },
  {
   "cell_type": "markdown",
   "id": "c162d888",
   "metadata": {},
   "source": [
    "# Batch RL Results"
   ]
  },
  {
   "cell_type": "code",
   "execution_count": null,
   "id": "a58442df",
   "metadata": {},
   "outputs": [],
   "source": [
    "result_files = glob.glob('./toy_outputLL/**/*Episode_steps.csv')"
   ]
  },
  {
   "cell_type": "code",
   "execution_count": null,
   "id": "2a201354",
   "metadata": {},
   "outputs": [],
   "source": [
    "from copy import deepcopy\n",
    "\n",
    "datasets = dict(tr=[], coda=[], rand=[], unif=[], ogcoda_=[])\n",
    "res = dict(sac=deepcopy(datasets), bcddpg=deepcopy(datasets), cql=deepcopy(datasets), td3=deepcopy(datasets))\n",
    "\n",
    "for file in result_files:\n",
    "  with open(file, 'r') as f:\n",
    "    lines = f.readlines()[-5:]\n",
    "    mean = np.array([float(line.strip().split(',')[2]) for line in lines]).mean()\n",
    "    for key in res.keys():\n",
    "      for ds in datasets.keys():\n",
    "        if key in file and (ds+'__') in file:\n",
    "           res[key][ds].append(mean)"
   ]
  },
  {
   "cell_type": "code",
   "execution_count": null,
   "id": "5681a8d5",
   "metadata": {},
   "outputs": [],
   "source": [
    "for row in ['sac','bcddpg','cql','td3']:\n",
    "  print(\"&\", end='')\n",
    "  for ds in ['tr','coda','unif','rand','ogcoda_']:\n",
    "    print(f' {np.array(res[row][ds]).mean().round(1)} $\\pm$ {np.array(res[row][ds]).std().round(1)} ', end='& ')\n",
    "  print()\n",
    "    \n",
    "    "
   ]
  },
  {
   "cell_type": "code",
   "execution_count": null,
   "id": "e48b03ff",
   "metadata": {},
   "outputs": [],
   "source": [
    "result_files = glob.glob('./fetch_output_fc/**/*Success.csv')"
   ]
  },
  {
   "cell_type": "code",
   "execution_count": null,
   "id": "85a3921a",
   "metadata": {
    "scrolled": true
   },
   "outputs": [],
   "source": [
    "result_files"
   ]
  },
  {
   "cell_type": "code",
   "execution_count": null,
   "id": "a8ee1642",
   "metadata": {},
   "outputs": [],
   "source": [
    "from copy import deepcopy\n",
    "\n",
    "datasets = dict(tr=[], coda=[], unif=[])\n",
    "res = dict(bcddpg=deepcopy(datasets), td3=deepcopy(datasets))\n",
    "\n",
    "for file in result_files:\n",
    "  with open(file, 'r') as f:\n",
    "    lines = f.readlines()[-5:]\n",
    "    mean = np.array([float(line.strip().split(',')[2]) for line in lines]).mean()\n",
    "    for key in res.keys():\n",
    "      for ds in datasets.keys():\n",
    "        if key in file and (ds+'__') in file:\n",
    "           res[key][ds].append(mean)"
   ]
  },
  {
   "cell_type": "code",
   "execution_count": null,
   "id": "85153398",
   "metadata": {},
   "outputs": [],
   "source": [
    "for row in ['bcddpg','td3']:\n",
    "  print(\"&\", end='')\n",
    "  for ds in ['coda','unif']:\n",
    "    print(f' {(np.array(res[row][ds])*100).mean().round(1)} $\\pm$ {(np.array(res[row][ds])*100).std().round(1)} ', end='& ')\n",
    "  print()\n",
    "    \n",
    "    "
   ]
  },
  {
   "cell_type": "code",
   "execution_count": null,
   "id": "b3fca031",
   "metadata": {},
   "outputs": [],
   "source": []
  }
 ],
 "metadata": {
  "kernelspec": {
   "display_name": "Python 3 (ipykernel)",
   "language": "python",
   "name": "python3"
  },
  "language_info": {
   "codemirror_mode": {
    "name": "ipython",
    "version": 3
   },
   "file_extension": ".py",
   "mimetype": "text/x-python",
   "name": "python",
   "nbconvert_exporter": "python",
   "pygments_lexer": "ipython3",
   "version": "3.9.7"
  }
 },
 "nbformat": 4,
 "nbformat_minor": 5
}
